{
 "cells": [
  {
   "cell_type": "markdown",
   "id": "7f67d9fa-1f24-4541-9cca-524fd7fbc00e",
   "metadata": {},
   "source": [
    "# Analyzing Police Activity"
   ]
  },
  {
   "cell_type": "markdown",
   "id": "b7a3607f-1441-4cb1-8f6c-bed72101e73c",
   "metadata": {},
   "source": [
    "### Imports"
   ]
  },
  {
   "cell_type": "code",
   "execution_count": 1,
   "id": "0e2e9b73-e327-4062-99a0-fdec6eb12c55",
   "metadata": {},
   "outputs": [],
   "source": [
    "# import libraries\n",
    "\n",
    "import pandas as pd\n",
    "import matplotlib.pyplot as plt"
   ]
  },
  {
   "cell_type": "code",
   "execution_count": 2,
   "id": "61a5feaf-6f2d-4696-a357-f6c8d0e1a22b",
   "metadata": {},
   "outputs": [],
   "source": [
    "# read data\n",
    "\n",
    "ri = pd.read_csv('police.csv')\n",
    "weather = pd.read_csv('weather.csv')"
   ]
  },
  {
   "cell_type": "markdown",
   "id": "0566847d-34b2-46d8-a7df-73de26ef8135",
   "metadata": {},
   "source": [
    "### Cleaning"
   ]
  },
  {
   "cell_type": "code",
   "execution_count": 3,
   "id": "619d548b-abe0-4822-bbd5-c6c97890cfaf",
   "metadata": {},
   "outputs": [
    {
     "name": "stdout",
     "output_type": "stream",
     "text": [
      "  state   stop_date stop_time  county_name driver_gender driver_race  \\\n",
      "0    RI  2005-01-04     12:55          NaN             M       White   \n",
      "1    RI  2005-01-23     23:15          NaN             M       White   \n",
      "2    RI  2005-02-17     04:15          NaN             M       White   \n",
      "3    RI  2005-02-20     17:15          NaN             M       White   \n",
      "4    RI  2005-02-24     01:20          NaN             F       White   \n",
      "\n",
      "                    violation_raw  violation  search_conducted search_type  \\\n",
      "0  Equipment/Inspection Violation  Equipment             False         NaN   \n",
      "1                        Speeding   Speeding             False         NaN   \n",
      "2                        Speeding   Speeding             False         NaN   \n",
      "3                Call for Service      Other             False         NaN   \n",
      "4                        Speeding   Speeding             False         NaN   \n",
      "\n",
      "    stop_outcome is_arrested stop_duration  drugs_related_stop district  \n",
      "0       Citation       False      0-15 Min               False  Zone X4  \n",
      "1       Citation       False      0-15 Min               False  Zone K3  \n",
      "2       Citation       False      0-15 Min               False  Zone X4  \n",
      "3  Arrest Driver        True     16-30 Min               False  Zone X1  \n",
      "4       Citation       False      0-15 Min               False  Zone X3  \n"
     ]
    }
   ],
   "source": [
    "print(ri.head())"
   ]
  },
  {
   "cell_type": "code",
   "execution_count": 4,
   "id": "cd1ff330-7ca7-40f9-91a9-52c5b3f07931",
   "metadata": {},
   "outputs": [
    {
     "name": "stdout",
     "output_type": "stream",
     "text": [
      "state                     0\n",
      "stop_date                 0\n",
      "stop_time                 0\n",
      "county_name           91741\n",
      "driver_gender          5205\n",
      "driver_race            5202\n",
      "violation_raw          5202\n",
      "violation              5202\n",
      "search_conducted          0\n",
      "search_type           88434\n",
      "stop_outcome           5202\n",
      "is_arrested            5202\n",
      "stop_duration          5202\n",
      "drugs_related_stop        0\n",
      "district                  0\n",
      "dtype: int64\n"
     ]
    }
   ],
   "source": [
    "# count the number of missing values by column\n",
    "print(ri.isnull().sum())"
   ]
  },
  {
   "cell_type": "code",
   "execution_count": 5,
   "id": "f7178e07-37e9-45a9-b54a-4eb2780ea8df",
   "metadata": {},
   "outputs": [
    {
     "name": "stdout",
     "output_type": "stream",
     "text": [
      "(91741, 15)\n"
     ]
    }
   ],
   "source": [
    "# examine the shape of the df\n",
    "print(ri.shape)"
   ]
  },
  {
   "cell_type": "code",
   "execution_count": 6,
   "id": "2666f841-968c-4685-a130-39f91eda4cef",
   "metadata": {},
   "outputs": [
    {
     "name": "stdout",
     "output_type": "stream",
     "text": [
      "(91741, 13)\n"
     ]
    }
   ],
   "source": [
    "# drop the 'county_name' and 'state' columns\n",
    "ri.drop(['county_name','state'], axis='columns', inplace=True)\n",
    "\n",
    "# examine the updated shape of the df, confirming the loss of two columns\n",
    "print(ri.shape)"
   ]
  },
  {
   "cell_type": "code",
   "execution_count": 7,
   "id": "da58fe2c-981e-4be1-8c3f-182d30e8778d",
   "metadata": {},
   "outputs": [
    {
     "name": "stdout",
     "output_type": "stream",
     "text": [
      "stop_date                 0\n",
      "stop_time                 0\n",
      "driver_gender          5205\n",
      "driver_race            5202\n",
      "violation_raw          5202\n",
      "violation              5202\n",
      "search_conducted          0\n",
      "search_type           88434\n",
      "stop_outcome           5202\n",
      "is_arrested            5202\n",
      "stop_duration          5202\n",
      "drugs_related_stop        0\n",
      "district                  0\n",
      "dtype: int64\n"
     ]
    }
   ],
   "source": [
    "# count the number of missing values by column\n",
    "print(ri.isnull().sum())"
   ]
  },
  {
   "cell_type": "code",
   "execution_count": 8,
   "id": "e5cdd55f-f517-43c2-9e72-1b34e79e9cdf",
   "metadata": {},
   "outputs": [
    {
     "name": "stdout",
     "output_type": "stream",
     "text": [
      "stop_date                 0\n",
      "stop_time                 0\n",
      "driver_gender             0\n",
      "driver_race               0\n",
      "violation_raw             0\n",
      "violation                 0\n",
      "search_conducted          0\n",
      "search_type           83229\n",
      "stop_outcome              0\n",
      "is_arrested               0\n",
      "stop_duration             0\n",
      "drugs_related_stop        0\n",
      "district                  0\n",
      "dtype: int64\n"
     ]
    }
   ],
   "source": [
    "# drop all rows that are missing a value in the 'driver_gender' column\n",
    "ri.dropna(subset=['driver_gender'], inplace=True)\n",
    "\n",
    "# count the number of missing values by column, confirming 'driver_gender' has none\n",
    "print(ri.isnull().sum())"
   ]
  },
  {
   "cell_type": "code",
   "execution_count": 9,
   "id": "58198896-f7eb-4de2-a555-df60569574a3",
   "metadata": {},
   "outputs": [
    {
     "name": "stdout",
     "output_type": "stream",
     "text": [
      "(86536, 13)\n"
     ]
    }
   ],
   "source": [
    "# examine the shape of the df\n",
    "print(ri.shape)"
   ]
  },
  {
   "cell_type": "code",
   "execution_count": 10,
   "id": "e6531a1f-7988-4e03-a9f6-fd3e6b2d17be",
   "metadata": {},
   "outputs": [
    {
     "name": "stdout",
     "output_type": "stream",
     "text": [
      "stop_date             object\n",
      "stop_time             object\n",
      "driver_gender         object\n",
      "driver_race           object\n",
      "violation_raw         object\n",
      "violation             object\n",
      "search_conducted        bool\n",
      "search_type           object\n",
      "stop_outcome          object\n",
      "is_arrested           object\n",
      "stop_duration         object\n",
      "drugs_related_stop      bool\n",
      "district              object\n",
      "dtype: object\n"
     ]
    }
   ],
   "source": [
    "# examine the dtypes of the df\n",
    "print(ri.dtypes)"
   ]
  },
  {
   "cell_type": "code",
   "execution_count": 12,
   "id": "351360fa-c863-4c53-81af-a4a9fadcae56",
   "metadata": {},
   "outputs": [
    {
     "name": "stdout",
     "output_type": "stream",
     "text": [
      "0    False\n",
      "1    False\n",
      "2    False\n",
      "3     True\n",
      "4    False\n",
      "Name: is_arrested, dtype: object\n"
     ]
    }
   ],
   "source": [
    "# examine the first five rows of the 'is_arrested' column\n",
    "print(ri['is_arrested'].head())"
   ]
  },
  {
   "cell_type": "code",
   "execution_count": 15,
   "id": "d97c90ea-cf45-48c8-8a91-0212b236e0c0",
   "metadata": {},
   "outputs": [
    {
     "name": "stdout",
     "output_type": "stream",
     "text": [
      "bool\n"
     ]
    }
   ],
   "source": [
    "# convert the dtype of 'is_arrested' to bool\n",
    "ri['is_arrested'] = ri['is_arrested'].astype('bool')\n",
    "\n",
    "# verify that the dtype of 'is_arrested' is now bool\n",
    "print(ri['is_arrested'].dtype)"
   ]
  },
  {
   "cell_type": "code",
   "execution_count": 16,
   "id": "c8d0d9fe-9b3f-4a68-af34-5365464f3e97",
   "metadata": {},
   "outputs": [
    {
     "name": "stdout",
     "output_type": "stream",
     "text": [
      "datetime64[ns]\n"
     ]
    }
   ],
   "source": [
    "# concat 'stop_date' and 'stop_time' with a space\n",
    "combined = ri['stop_date'].str.cat(ri['stop_time'], sep=' ')\n",
    "\n",
    "# convert the dtype of 'combined' to datetime\n",
    "ri['stop_datetime'] = pd.to_datetime(combined)\n",
    "\n",
    "# verify that the dtype of 'stop_datetime' is datetime\n",
    "print(ri['stop_datetime'].dtype)"
   ]
  },
  {
   "cell_type": "code",
   "execution_count": 17,
   "id": "bfb709ca-0aaa-44bf-8f50-66279589659a",
   "metadata": {},
   "outputs": [
    {
     "name": "stdout",
     "output_type": "stream",
     "text": [
      "DatetimeIndex(['2005-01-04 12:55:00', '2005-01-23 23:15:00',\n",
      "               '2005-02-17 04:15:00', '2005-02-20 17:15:00',\n",
      "               '2005-02-24 01:20:00', '2005-03-14 10:00:00',\n",
      "               '2005-03-29 21:55:00', '2005-04-04 21:25:00',\n",
      "               '2005-07-14 11:20:00', '2005-07-14 19:55:00',\n",
      "               ...\n",
      "               '2015-12-31 13:23:00', '2015-12-31 18:59:00',\n",
      "               '2015-12-31 19:13:00', '2015-12-31 20:20:00',\n",
      "               '2015-12-31 20:50:00', '2015-12-31 21:21:00',\n",
      "               '2015-12-31 21:59:00', '2015-12-31 22:04:00',\n",
      "               '2015-12-31 22:09:00', '2015-12-31 22:47:00'],\n",
      "              dtype='datetime64[ns]', name='stop_datetime', length=86536, freq=None)\n"
     ]
    }
   ],
   "source": [
    "# set the index to the 'stop_datetime' column\n",
    "ri.set_index('stop_datetime', inplace=True)\n",
    "\n",
    "# examine the index\n",
    "print(ri.index)"
   ]
  },
  {
   "cell_type": "code",
   "execution_count": 18,
   "id": "0dd62ced-ec5b-4a1b-b64a-71b28910043b",
   "metadata": {},
   "outputs": [
    {
     "name": "stdout",
     "output_type": "stream",
     "text": [
      "Index(['stop_date', 'stop_time', 'driver_gender', 'driver_race',\n",
      "       'violation_raw', 'violation', 'search_conducted', 'search_type',\n",
      "       'stop_outcome', 'is_arrested', 'stop_duration', 'drugs_related_stop',\n",
      "       'district'],\n",
      "      dtype='object')\n"
     ]
    }
   ],
   "source": [
    "# examine the columns, confiming that 'stop_datetime' no longer appears here\n",
    "print(ri.columns)"
   ]
  },
  {
   "cell_type": "markdown",
   "id": "9d633b66-a462-4411-8c59-a5ddfd457b66",
   "metadata": {},
   "source": [
    "### Analysis\n",
    "#### Q: Do the genders commit different violations?"
   ]
  },
  {
   "cell_type": "code",
   "execution_count": 19,
   "id": "fa8ca345-da08-4725-8c29-d52082c1d606",
   "metadata": {},
   "outputs": [
    {
     "name": "stdout",
     "output_type": "stream",
     "text": [
      "Speeding               48423\n",
      "Moving violation       16224\n",
      "Equipment              10921\n",
      "Other                   4409\n",
      "Registration/plates     3703\n",
      "Seat belt               2856\n",
      "Name: violation, dtype: int64\n"
     ]
    }
   ],
   "source": [
    "# count the unique values in 'violation'\n",
    "print(ri['violation'].value_counts())"
   ]
  },
  {
   "cell_type": "code",
   "execution_count": 20,
   "id": "4511113c-ca0b-4da0-85db-b3b3cba28f31",
   "metadata": {},
   "outputs": [
    {
     "name": "stdout",
     "output_type": "stream",
     "text": [
      "Speeding               0.559571\n",
      "Moving violation       0.187483\n",
      "Equipment              0.126202\n",
      "Other                  0.050950\n",
      "Registration/plates    0.042791\n",
      "Seat belt              0.033004\n",
      "Name: violation, dtype: float64\n"
     ]
    }
   ],
   "source": [
    "# express the counts proportionally\n",
    "print(ri['violation'].value_counts(normalize=True))"
   ]
  },
  {
   "cell_type": "code",
   "execution_count": 21,
   "id": "93472017-63fd-44eb-8b68-6bba9b1a394f",
   "metadata": {},
   "outputs": [
    {
     "name": "stdout",
     "output_type": "stream",
     "text": [
      "Speeding               0.658114\n",
      "Moving violation       0.138218\n",
      "Equipment              0.105199\n",
      "Registration/plates    0.044418\n",
      "Other                  0.029738\n",
      "Seat belt              0.024312\n",
      "Name: violation, dtype: float64\n"
     ]
    }
   ],
   "source": [
    "# create a df of female drivers\n",
    "female = ri[ri['driver_gender'] == 'F']\n",
    "\n",
    "# create a df of male drivers\n",
    "male = ri[ri['driver_gender'] == 'M']\n",
    "\n",
    "# calc the violations by female drivers proportionally\n",
    "print(female['violation'].value_counts(normalize=True))"
   ]
  },
  {
   "cell_type": "code",
   "execution_count": 22,
   "id": "3dd70510-fa99-48c4-bfc4-1bfc60d5dd05",
   "metadata": {},
   "outputs": [
    {
     "name": "stdout",
     "output_type": "stream",
     "text": [
      "Speeding               0.522243\n",
      "Moving violation       0.206144\n",
      "Equipment              0.134158\n",
      "Other                  0.058985\n",
      "Registration/plates    0.042175\n",
      "Seat belt              0.036296\n",
      "Name: violation, dtype: float64\n"
     ]
    }
   ],
   "source": [
    "# calc the violations by male drivers proportionally\n",
    "print(male['violation'].value_counts(normalize=True))"
   ]
  },
  {
   "cell_type": "markdown",
   "id": "1c31772c-a749-42f5-a3b9-438bc8991a11",
   "metadata": {},
   "source": [
    "#### O: About 2/3 female traffic stops are for speeding, whereas stops of males are more valanced amoung the six categories.\n",
    "####    Need to take into account the number of stops, number of drivers"
   ]
  },
  {
   "cell_type": "markdown",
   "id": "e46cf48e-fcb0-43d1-abe0-5ee1a35bf2cb",
   "metadata": {},
   "source": [
    "#### Q: Does gender affect who gets a speeding ticket?\n",
    "####    Keep in mind: we can't determine causation here, only an observational pattern"
   ]
  },
  {
   "cell_type": "code",
   "execution_count": 23,
   "id": "9ff975b7-5b02-4480-848a-0a8268cd8048",
   "metadata": {},
   "outputs": [
    {
     "name": "stdout",
     "output_type": "stream",
     "text": [
      "Citation            0.952192\n",
      "Warning             0.040074\n",
      "Arrest Driver       0.005752\n",
      "N/D                 0.000959\n",
      "Arrest Passenger    0.000639\n",
      "No Action           0.000383\n",
      "Name: stop_outcome, dtype: float64\n"
     ]
    }
   ],
   "source": [
    "# create a df of females who were stopped for speeding\n",
    "female_and_speeding = ri[(ri['driver_gender'] == 'F') & (ri['violation'] == 'Speeding')]\n",
    "\n",
    "# create a df of males who were stopped for speeding\n",
    "male_and_speeding = ri[(ri['driver_gender'] == 'M') & (ri['violation'] == 'Speeding')]\n",
    "\n",
    "# calc the stop outcomes for female drivers proportionally\n",
    "print(female_and_speeding['stop_outcome'].value_counts(normalize=True))"
   ]
  },
  {
   "cell_type": "code",
   "execution_count": 24,
   "id": "b18bc22f-21a5-44d6-8ca8-20258bfdab21",
   "metadata": {},
   "outputs": [
    {
     "name": "stdout",
     "output_type": "stream",
     "text": [
      "Citation            0.944595\n",
      "Warning             0.036184\n",
      "Arrest Driver       0.015895\n",
      "Arrest Passenger    0.001281\n",
      "No Action           0.001068\n",
      "N/D                 0.000976\n",
      "Name: stop_outcome, dtype: float64\n"
     ]
    }
   ],
   "source": [
    "# calc the stop outcomes for male drivers proportionally\n",
    "print(male_and_speeding['stop_outcome'].value_counts(normalize=True))"
   ]
  },
  {
   "cell_type": "markdown",
   "id": "05ff09fc-463d-457d-9aea-f31ee935e174",
   "metadata": {},
   "source": [
    "#### O: The figures are nearly identical for men and women."
   ]
  },
  {
   "cell_type": "markdown",
   "id": "761267a6-4a20-420f-b8b7-0209f751a703",
   "metadata": {},
   "source": [
    "#### Q: Does gender affect whose vehicle is searched?"
   ]
  },
  {
   "cell_type": "code",
   "execution_count": 25,
   "id": "d905fb37-1eba-4dfc-b9f3-20979276f9aa",
   "metadata": {},
   "outputs": [
    {
     "name": "stdout",
     "output_type": "stream",
     "text": [
      "bool\n"
     ]
    }
   ],
   "source": [
    "# examine the dtype of 'search_conducted'\n",
    "print(ri['search_conducted'].dtype)"
   ]
  },
  {
   "cell_type": "code",
   "execution_count": 26,
   "id": "2308cc7e-084e-4d82-bff2-39d221a7505b",
   "metadata": {},
   "outputs": [
    {
     "name": "stdout",
     "output_type": "stream",
     "text": [
      "False    0.961785\n",
      "True     0.038215\n",
      "Name: search_conducted, dtype: float64\n"
     ]
    }
   ],
   "source": [
    "# calc the search rate by counting the values\n",
    "print(ri['search_conducted'].value_counts(normalize=True))"
   ]
  },
  {
   "cell_type": "code",
   "execution_count": 27,
   "id": "28413c1e-c104-451e-bdd8-47432a4fd32c",
   "metadata": {},
   "outputs": [
    {
     "name": "stdout",
     "output_type": "stream",
     "text": [
      "0.0382153092354627\n"
     ]
    }
   ],
   "source": [
    "# calc the search rate by taking the mean\n",
    "print(ri['search_conducted'].mean())"
   ]
  },
  {
   "cell_type": "code",
   "execution_count": 28,
   "id": "53eb2e94-aefe-4a75-89f1-b1861d74afc6",
   "metadata": {},
   "outputs": [
    {
     "name": "stdout",
     "output_type": "stream",
     "text": [
      "0.019180617481282074\n"
     ]
    }
   ],
   "source": [
    "# calc the search rate for female drivers\n",
    "print(ri[ri['driver_gender'] == 'F']['search_conducted'].mean())"
   ]
  },
  {
   "cell_type": "code",
   "execution_count": 29,
   "id": "70edf06e-850e-439a-8b4d-c0973e23005b",
   "metadata": {},
   "outputs": [
    {
     "name": "stdout",
     "output_type": "stream",
     "text": [
      "0.04542557598546892\n"
     ]
    }
   ],
   "source": [
    "# calc the search rate for male drivers\n",
    "print(ri[ri['driver_gender'] == 'M']['search_conducted'].mean())"
   ]
  },
  {
   "cell_type": "code",
   "execution_count": 30,
   "id": "afc2c56d-55f9-4ac1-97e5-cd6dd514eb1c",
   "metadata": {},
   "outputs": [
    {
     "name": "stdout",
     "output_type": "stream",
     "text": [
      "driver_gender\n",
      "F    0.019181\n",
      "M    0.045426\n",
      "Name: search_conducted, dtype: float64\n"
     ]
    }
   ],
   "source": [
    "# calc the search rate for both groups\n",
    "print(ri.groupby('driver_gender')['search_conducted'].mean())"
   ]
  },
  {
   "cell_type": "markdown",
   "id": "69a1db8c-fbea-42d4-854c-ab0c65075aaa",
   "metadata": {},
   "source": [
    "#### O: Male drivers are searched more than 2x that of female drivers.\n",
    "####    What's going on here?"
   ]
  },
  {
   "cell_type": "code",
   "execution_count": 31,
   "id": "6f50c04d-e0a1-4a52-9da8-594e401ac9c7",
   "metadata": {},
   "outputs": [
    {
     "name": "stdout",
     "output_type": "stream",
     "text": [
      "driver_gender  violation          \n",
      "F              Equipment              0.039984\n",
      "               Moving violation       0.039257\n",
      "               Other                  0.041018\n",
      "               Registration/plates    0.054924\n",
      "               Seat belt              0.017301\n",
      "               Speeding               0.008309\n",
      "M              Equipment              0.071496\n",
      "               Moving violation       0.061524\n",
      "               Other                  0.046191\n",
      "               Registration/plates    0.108802\n",
      "               Seat belt              0.035119\n",
      "               Speeding               0.027885\n",
      "Name: search_conducted, dtype: float64\n"
     ]
    }
   ],
   "source": [
    "# calc the search rate for the combination of gender and violation\n",
    "print(ri.groupby(['driver_gender','violation'])['search_conducted'].mean())"
   ]
  },
  {
   "cell_type": "code",
   "execution_count": 32,
   "id": "c0553b98-88b8-409b-ab86-b29aea0205d5",
   "metadata": {},
   "outputs": [
    {
     "name": "stdout",
     "output_type": "stream",
     "text": [
      "violation            driver_gender\n",
      "Equipment            F                0.039984\n",
      "                     M                0.071496\n",
      "Moving violation     F                0.039257\n",
      "                     M                0.061524\n",
      "Other                F                0.041018\n",
      "                     M                0.046191\n",
      "Registration/plates  F                0.054924\n",
      "                     M                0.108802\n",
      "Seat belt            F                0.017301\n",
      "                     M                0.035119\n",
      "Speeding             F                0.008309\n",
      "                     M                0.027885\n",
      "Name: search_conducted, dtype: float64\n"
     ]
    }
   ],
   "source": [
    "# in reverse order\n",
    "print(ri.groupby(['violation','driver_gender'])['search_conducted'].mean())"
   ]
  },
  {
   "cell_type": "markdown",
   "id": "7be4e0f2-5abf-417b-939d-6ab20c0d39aa",
   "metadata": {},
   "source": [
    "#### O: For all types of violations, the search rate is higher for men than women."
   ]
  },
  {
   "cell_type": "markdown",
   "id": "b96a79f9-e9f0-4414-81e2-e412531c015d",
   "metadata": {},
   "source": [
    "#### Q: Does gender affect who is frisked during a search?"
   ]
  },
  {
   "cell_type": "code",
   "execution_count": 33,
   "id": "3a6d9b47-fc87-42ea-8835-6c7b772763c9",
   "metadata": {},
   "outputs": [
    {
     "name": "stdout",
     "output_type": "stream",
     "text": [
      "Incident to Arrest                                          1290\n",
      "Probable Cause                                               924\n",
      "Inventory                                                    219\n",
      "Reasonable Suspicion                                         214\n",
      "Protective Frisk                                             164\n",
      "Incident to Arrest,Inventory                                 123\n",
      "Incident to Arrest,Probable Cause                            100\n",
      "Probable Cause,Reasonable Suspicion                           54\n",
      "Incident to Arrest,Inventory,Probable Cause                   35\n",
      "Probable Cause,Protective Frisk                               35\n",
      "Incident to Arrest,Protective Frisk                           33\n",
      "Inventory,Probable Cause                                      25\n",
      "Protective Frisk,Reasonable Suspicion                         19\n",
      "Incident to Arrest,Inventory,Protective Frisk                 18\n",
      "Incident to Arrest,Probable Cause,Protective Frisk            13\n",
      "Inventory,Protective Frisk                                    12\n",
      "Incident to Arrest,Reasonable Suspicion                        8\n",
      "Probable Cause,Protective Frisk,Reasonable Suspicion           5\n",
      "Incident to Arrest,Probable Cause,Reasonable Suspicion         5\n",
      "Incident to Arrest,Inventory,Reasonable Suspicion              4\n",
      "Incident to Arrest,Protective Frisk,Reasonable Suspicion       2\n",
      "Inventory,Reasonable Suspicion                                 2\n",
      "Inventory,Protective Frisk,Reasonable Suspicion                1\n",
      "Inventory,Probable Cause,Reasonable Suspicion                  1\n",
      "Inventory,Probable Cause,Protective Frisk                      1\n",
      "Name: search_type, dtype: int64\n"
     ]
    }
   ],
   "source": [
    "# count the 'search_type' values\n",
    "print(ri['search_type'].value_counts())"
   ]
  },
  {
   "cell_type": "code",
   "execution_count": 34,
   "id": "78a511d1-2544-4a94-8714-a6b9d3ff1ce9",
   "metadata": {},
   "outputs": [
    {
     "name": "stdout",
     "output_type": "stream",
     "text": [
      "bool\n"
     ]
    }
   ],
   "source": [
    "# create new col with bool 'frisk' identifying where 'search_type' contains the string \"Protective Frisk\"\n",
    "ri['frisk'] = ri['search_type'].str.contains('Protective Frisk', na=False)\n",
    "\n",
    "# verify the dtype of 'frisk'\n",
    "print(ri['frisk'].dtype)"
   ]
  },
  {
   "cell_type": "code",
   "execution_count": 35,
   "id": "25f3de33-d7c4-44e7-9617-db573c404581",
   "metadata": {},
   "outputs": [
    {
     "name": "stdout",
     "output_type": "stream",
     "text": [
      "303\n"
     ]
    }
   ],
   "source": [
    "# take the sum of 'frisk'\n",
    "print(ri['frisk'].sum())"
   ]
  },
  {
   "cell_type": "code",
   "execution_count": 36,
   "id": "1508bf85-d7f5-42ca-8f8b-593ee3e3d8bd",
   "metadata": {},
   "outputs": [
    {
     "name": "stdout",
     "output_type": "stream",
     "text": [
      "0.09162382824312065\n"
     ]
    }
   ],
   "source": [
    "# create a df of stops in which a search was conducted\n",
    "searched = ri[ri['search_conducted'] == True]\n",
    "\n",
    "# calc the overall frisk rate by taking the mean of 'frisk'\n",
    "print(searched['frisk'].mean())"
   ]
  },
  {
   "cell_type": "code",
   "execution_count": 37,
   "id": "2b178fef-e565-452a-a164-61b4ebf2fde4",
   "metadata": {},
   "outputs": [
    {
     "name": "stdout",
     "output_type": "stream",
     "text": [
      "driver_gender\n",
      "F    0.074561\n",
      "M    0.094353\n",
      "Name: frisk, dtype: float64\n"
     ]
    }
   ],
   "source": [
    "# calc the frisk rate for each gender\n",
    "print(searched.groupby('driver_gender')['frisk'].mean())"
   ]
  },
  {
   "cell_type": "markdown",
   "id": "63fb719a-1b03-4775-bcbd-1bf1b44d0dc5",
   "metadata": {},
   "source": [
    "#### O: The frisk rate is higher for men than for women.\n",
    "####    However, we cannot conclude that this disparity is caused by the driver's gender"
   ]
  },
  {
   "cell_type": "markdown",
   "id": "2d75ed9b-fbd5-424e-bdc9-5a69ee586653",
   "metadata": {},
   "source": [
    "#### Q: Does time of day affect arrest rate?"
   ]
  },
  {
   "cell_type": "code",
   "execution_count": 38,
   "id": "83d2a25e-e1b5-41f2-b5d2-bb5b2e94b766",
   "metadata": {},
   "outputs": [
    {
     "name": "stdout",
     "output_type": "stream",
     "text": [
      "0.0355690117407784\n"
     ]
    }
   ],
   "source": [
    "# calc the overall arrest rate\n",
    "print(ri['is_arrested'].mean())"
   ]
  },
  {
   "cell_type": "code",
   "execution_count": 39,
   "id": "721ad073-4ba1-4ad7-8a4d-a2dd8c407337",
   "metadata": {},
   "outputs": [
    {
     "name": "stdout",
     "output_type": "stream",
     "text": [
      "stop_datetime\n",
      "0     0.051431\n",
      "1     0.064932\n",
      "2     0.060798\n",
      "3     0.060549\n",
      "4     0.048000\n",
      "5     0.042781\n",
      "6     0.013813\n",
      "7     0.013032\n",
      "8     0.021854\n",
      "9     0.025206\n",
      "10    0.028213\n",
      "11    0.028897\n",
      "12    0.037399\n",
      "13    0.030776\n",
      "14    0.030605\n",
      "15    0.030679\n",
      "16    0.035281\n",
      "17    0.040619\n",
      "18    0.038204\n",
      "19    0.032245\n",
      "20    0.038107\n",
      "21    0.064541\n",
      "22    0.048666\n",
      "23    0.047592\n",
      "Name: is_arrested, dtype: float64\n"
     ]
    }
   ],
   "source": [
    "# calc the hourly arrest rate\n",
    "print(ri.groupby(ri.index.hour)['is_arrested'].mean())"
   ]
  },
  {
   "cell_type": "code",
   "execution_count": 40,
   "id": "d7319003-8c9b-44ac-8f7d-e354a22626b5",
   "metadata": {},
   "outputs": [
    {
     "data": {
      "image/png": "[encoded data removed]",
      "text/plain": [
       "<Figure size 432x288 with 1 Axes>"
      ]
     },
     "metadata": {
      "needs_background": "light"
     },
     "output_type": "display_data"
    }
   ],
   "source": [
    "# save this as its own object\n",
    "hourly_arrest_rate = ri.groupby(ri.index.hour)['is_arrested'].mean()\n",
    "\n",
    "# create a line plot of 'hourly_arrest_rate'\n",
    "hourly_arrest_rate.plot(kind='line')\n",
    "\n",
    "# add labels\n",
    "plt.xlabel('Hour')\n",
    "plt.ylabel('Arrest Rate')\n",
    "plt.title('Arrest Rate by Time of Day')\n",
    "\n",
    "# display the plot\n",
    "plt.show()"
   ]
  },
  {
   "cell_type": "markdown",
   "id": "25cb5fec-9b21-4078-bc2e-3688a4da7c96",
   "metadata": {},
   "source": [
    "#### O: The arrest rate has a significant spike overnight, and then dips in the early morning hours."
   ]
  },
  {
   "cell_type": "markdown",
   "id": "2dac57d5-08c1-43d8-8a78-fc392d1983e8",
   "metadata": {},
   "source": [
    "#### Q: Are drug-related stops on the rise?"
   ]
  },
  {
   "cell_type": "code",
   "execution_count": 41,
   "id": "4e39ac62-2f67-4504-964a-ca91f145be4a",
   "metadata": {},
   "outputs": [
    {
     "name": "stdout",
     "output_type": "stream",
     "text": [
      "stop_datetime\n",
      "2005-12-31    0.006501\n",
      "2006-12-31    0.007258\n",
      "2007-12-31    0.007970\n",
      "2008-12-31    0.007505\n",
      "2009-12-31    0.009889\n",
      "2010-12-31    0.010081\n",
      "2011-12-31    0.009731\n",
      "2012-12-31    0.009921\n",
      "2013-12-31    0.013094\n",
      "2014-12-31    0.013826\n",
      "2015-12-31    0.012266\n",
      "Freq: A-DEC, Name: drugs_related_stop, dtype: float64\n"
     ]
    }
   ],
   "source": [
    "# calc the annual rate of drug-related stops\n",
    "print(ri['drugs_related_stop'].resample('A').mean())"
   ]
  },
  {
   "cell_type": "code",
   "execution_count": 42,
   "id": "2cc75006-79a6-4f42-8710-8f5b37fae98d",
   "metadata": {},
   "outputs": [
    {
     "data": {
      "image/png": "[encoded data removed]",
      "text/plain": [
       "<Figure size 432x288 with 1 Axes>"
      ]
     },
     "metadata": {
      "needs_background": "light"
     },
     "output_type": "display_data"
    }
   ],
   "source": [
    "# save this as its own object\n",
    "annual_drug_rate = ri['drugs_related_stop'].resample('A').mean()\n",
    "\n",
    "# create a line plot of 'annual_drug_rate'\n",
    "annual_drug_rate.plot(kind='line')\n",
    "\n",
    "# add labels\n",
    "plt.xlabel('Year')\n",
    "plt.ylabel('Drug-Related Stop Rate')\n",
    "plt.title('Drug-Related Stop Rate by Year')\n",
    "\n",
    "# display the plot\n",
    "plt.show()"
   ]
  },
  {
   "cell_type": "markdown",
   "id": "9ba88ff9-a47e-44c7-83f5-84926a75ec70",
   "metadata": {},
   "source": [
    "#### O: The rate of drug-related stops nearly doubled over the course of 10 years.\n",
    "####    What's going on here?"
   ]
  },
  {
   "cell_type": "code",
   "execution_count": 44,
   "id": "81b60221-5260-480e-a4e1-5a64fff79c92",
   "metadata": {},
   "outputs": [
    {
     "data": {
      "image/png": "[encoded data removed]",
      "text/plain": [
       "<Figure size 432x288 with 2 Axes>"
      ]
     },
     "metadata": {
      "needs_background": "light"
     },
     "output_type": "display_data"
    }
   ],
   "source": [
    "# calc and save the annual search rate\n",
    "annual_search_rate = ri['search_conducted'].resample('A').mean()\n",
    "\n",
    "# concat 'annual_drug_rate' and 'annual_search_rate'\n",
    "annual = pd.concat([annual_drug_rate, annual_search_rate], axis='columns')\n",
    "\n",
    "# create subplots from 'annual'\n",
    "annual.plot(subplots=True)\n",
    "\n",
    "# add labels\n",
    "plt.xlabel('Year')\n",
    "plt.ylabel('Rate')\n",
    "plt.title('Drug-Related Stop Rate vs. Overall Search Rate by Year')\n",
    "\n",
    "# display the subplots\n",
    "plt.show()"
   ]
  },
  {
   "cell_type": "markdown",
   "id": "ef8952ab-e3d6-4995-8c7a-60b23f094784",
   "metadata": {},
   "source": [
    "#### O: Interesting! The rate of drug-related stops has increased even though the search rate has decreased."
   ]
  },
  {
   "cell_type": "markdown",
   "id": "ce87cde3-36e8-4e4c-8b52-cf430ebd4b09",
   "metadata": {},
   "source": [
    "#### Q: What violations are caught in each district?"
   ]
  },
  {
   "cell_type": "code",
   "execution_count": 45,
   "id": "7cb5e270-1555-46b6-9f15-699c7ea11c25",
   "metadata": {},
   "outputs": [
    {
     "name": "stdout",
     "output_type": "stream",
     "text": [
      "violation  Equipment  Moving violation  Other  Registration/plates  Seat belt  \\\n",
      "district                                                                        \n",
      "Zone K1          672              1254    290                  120          0   \n",
      "Zone K2         2061              2962    942                  768        481   \n",
      "Zone K3         2302              2898    705                  695        638   \n",
      "Zone X1          296               671    143                   38         74   \n",
      "Zone X3         2049              3086    769                  671        820   \n",
      "Zone X4         3541              5353   1560                 1411        843   \n",
      "\n",
      "violation  Speeding  \n",
      "district             \n",
      "Zone K1        5960  \n",
      "Zone K2       10448  \n",
      "Zone K3       12322  \n",
      "Zone X1        1119  \n",
      "Zone X3        8779  \n",
      "Zone X4        9795  \n"
     ]
    }
   ],
   "source": [
    "# create a frequency table of districts and violations\n",
    "print(pd.crosstab(ri['district'], ri['violation']))"
   ]
  },
  {
   "cell_type": "code",
   "execution_count": 46,
   "id": "2d24da6c-9d4a-4d7a-bf85-8dc9645504a2",
   "metadata": {},
   "outputs": [
    {
     "name": "stdout",
     "output_type": "stream",
     "text": [
      "violation  Equipment  Moving violation  Other  Registration/plates  Seat belt  \\\n",
      "district                                                                        \n",
      "Zone K1          672              1254    290                  120          0   \n",
      "Zone K2         2061              2962    942                  768        481   \n",
      "Zone K3         2302              2898    705                  695        638   \n",
      "\n",
      "violation  Speeding  \n",
      "district             \n",
      "Zone K1        5960  \n",
      "Zone K2       10448  \n",
      "Zone K3       12322  \n"
     ]
    }
   ],
   "source": [
    "# save this as its own object\n",
    "all_zones = pd.crosstab(ri['district'], ri['violation'])\n",
    "\n",
    "# select rows \"Zone K1\" through \"Zone K3\"\n",
    "print(all_zones.loc['Zone K1':'Zone K3'])"
   ]
  },
  {
   "cell_type": "code",
   "execution_count": 47,
   "id": "ee32fe4c-f400-4364-9cd6-3989ef131deb",
   "metadata": {},
   "outputs": [
    {
     "data": {
      "image/png": "[encoded data removed]",
      "text/plain": [
       "<Figure size 432x288 with 1 Axes>"
      ]
     },
     "metadata": {
      "needs_background": "light"
     },
     "output_type": "display_data"
    }
   ],
   "source": [
    "# save this as its own object\n",
    "k_zones = all_zones.loc['Zone K1':'Zone K3']\n",
    "\n",
    "# create a bar plot of 'k_zones'\n",
    "k_zones.plot(kind='bar')\n",
    "\n",
    "# add labels\n",
    "plt.xlabel('District')\n",
    "plt.ylabel('Violations')\n",
    "plt.title('Violations by District')\n",
    "\n",
    "# display the plot\n",
    "plt.show()"
   ]
  },
  {
   "cell_type": "code",
   "execution_count": 48,
   "id": "d8e81602-713c-492a-85e1-d15b116d13c6",
   "metadata": {},
   "outputs": [
    {
     "data": {
      "image/png": "[encoded data removed]",
      "text/plain": [
       "<Figure size 432x288 with 1 Axes>"
      ]
     },
     "metadata": {
      "needs_background": "light"
     },
     "output_type": "display_data"
    }
   ],
   "source": [
    "# create a stacked bar plot of 'k_zones'\n",
    "k_zones.plot(kind='bar', stacked=True)\n",
    "\n",
    "# add labels\n",
    "plt.xlabel('District')\n",
    "plt.ylabel('Violations')\n",
    "plt.title('Violations by District')\n",
    "\n",
    "# display the plot\n",
    "plt.show()"
   ]
  },
  {
   "cell_type": "markdown",
   "id": "27568d68-4e48-48be-9c29-f0cd72ace2b7",
   "metadata": {},
   "source": [
    "#### O: The vast majority of traffic stops in Zone K1 are for speeding, and Zones K2 & K3 are very similar to each other."
   ]
  },
  {
   "cell_type": "markdown",
   "id": "97895207-cb5d-4761-9b1b-9eb181d6f68d",
   "metadata": {},
   "source": [
    "#### Q: How long might you be stopped for a violation?"
   ]
  },
  {
   "cell_type": "code",
   "execution_count": 49,
   "id": "8fb76490-2f07-42ae-8864-8fced8db4ef3",
   "metadata": {},
   "outputs": [
    {
     "name": "stdout",
     "output_type": "stream",
     "text": [
      "['0-15 Min' '16-30 Min' '30+ Min']\n"
     ]
    }
   ],
   "source": [
    "# print the unique values in 'stop_duration'\n",
    "print(ri['stop_duration'].unique())"
   ]
  },
  {
   "cell_type": "code",
   "execution_count": 50,
   "id": "bd5cbd60-75f5-474e-a6aa-e5a824528e1a",
   "metadata": {},
   "outputs": [
    {
     "name": "stdout",
     "output_type": "stream",
     "text": [
      "[ 8 23 45]\n"
     ]
    }
   ],
   "source": [
    "# create a dict that maps str to int\n",
    "mapping = {'0-15 Min': 8, '16-30 Min': 23, '30+ Min': 45}\n",
    "\n",
    "# convert the 'stop_duration' strings to ints using the mapping\n",
    "ri['stop_minutes'] = ri['stop_duration'].map(mapping)\n",
    "\n",
    "# print the unique values in 'stop_minutes'\n",
    "print(ri['stop_minutes'].unique())"
   ]
  },
  {
   "cell_type": "code",
   "execution_count": 51,
   "id": "758d0a02-e0b4-4d50-b3bc-bf848dea2d5a",
   "metadata": {},
   "outputs": [
    {
     "name": "stdout",
     "output_type": "stream",
     "text": [
      "violation_raw\n",
      "APB                                 17.967033\n",
      "Call for Service                    22.124371\n",
      "Equipment/Inspection Violation      11.445655\n",
      "Motorist Assist/Courtesy            17.741463\n",
      "Other Traffic Violation             13.844490\n",
      "Registration Violation              13.736970\n",
      "Seatbelt Violation                   9.662815\n",
      "Special Detail/Directed Patrol      15.123632\n",
      "Speeding                            10.581562\n",
      "Suspicious Person                   14.910714\n",
      "Violation of City/Town Ordinance    13.254144\n",
      "Warrant                             24.055556\n",
      "Name: stop_minutes, dtype: float64\n"
     ]
    }
   ],
   "source": [
    "# calc the mean 'stop_minutes' for each value in 'violation_raw'\n",
    "print(ri.groupby('violation_raw')['stop_minutes'].mean())"
   ]
  },
  {
   "cell_type": "code",
   "execution_count": 52,
   "id": "02450bd7-6b8e-4f33-ba4d-bec908476052",
   "metadata": {},
   "outputs": [
    {
     "data": {
      "image/png": "[encoded data removed]",
      "text/plain": [
       "<Figure size 432x288 with 1 Axes>"
      ]
     },
     "metadata": {
      "needs_background": "light"
     },
     "output_type": "display_data"
    }
   ],
   "source": [
    "# save this as its own object\n",
    "stop_length = ri.groupby('violation_raw')['stop_minutes'].mean()\n",
    "\n",
    "# sort 'stop_length' and create a horizontal bar plot\n",
    "stop_length.sort_values().plot(kind='barh')\n",
    "\n",
    "# add labels\n",
    "plt.xlabel('Violation')\n",
    "plt.ylabel('Avg. Minutes Stopped')\n",
    "plt.title('Avg. Time Stopped by Violation')\n",
    "\n",
    "# display the plot\n",
    "plt.show()"
   ]
  },
  {
   "cell_type": "markdown",
   "id": "b3669e3d-7be8-40ad-9887-1ffcd49b22d7",
   "metadata": {},
   "source": [
    "#### O: You would likely spend the most time stopped if there's a warrant out for your arrest, and the least time for a seatbelt violation.\n",
    "####    These results are intuitive, no real surprises"
   ]
  },
  {
   "cell_type": "markdown",
   "id": "897f9f1e-3bdd-413a-8524-c077d7041420",
   "metadata": {},
   "source": [
    "#### Q: How does weather impact police activity regarding traffic stops?"
   ]
  },
  {
   "cell_type": "markdown",
   "id": "cc6be23f-48af-4c6b-9861-99d934cf1921",
   "metadata": {},
   "source": [
    "### Prep"
   ]
  },
  {
   "cell_type": "code",
   "execution_count": 53,
   "id": "97f6df0f-3205-4f69-9541-75bc136e6f03",
   "metadata": {},
   "outputs": [
    {
     "name": "stdout",
     "output_type": "stream",
     "text": [
      "              TMIN         TAVG         TMAX\n",
      "count  4017.000000  1217.000000  4017.000000\n",
      "mean     43.484441    52.493016    61.268608\n",
      "std      17.020298    17.830714    18.199517\n",
      "min      -5.000000     6.000000    15.000000\n",
      "25%      30.000000    39.000000    47.000000\n",
      "50%      44.000000    54.000000    62.000000\n",
      "75%      58.000000    68.000000    77.000000\n",
      "max      77.000000    86.000000   102.000000\n"
     ]
    }
   ],
   "source": [
    "# describe the temperature columns\n",
    "print(weather[['TMIN','TAVG','TMAX']].describe())"
   ]
  },
  {
   "cell_type": "code",
   "execution_count": 54,
   "id": "0a7a2b2c-eebc-4c23-b0c5-89520c11b75e",
   "metadata": {},
   "outputs": [
    {
     "data": {
      "image/png": "[encoded data removed]",
      "text/plain": [
       "<Figure size 432x288 with 1 Axes>"
      ]
     },
     "metadata": {
      "needs_background": "light"
     },
     "output_type": "display_data"
    }
   ],
   "source": [
    "# create a box plot of the temperature columns\n",
    "weather[['TMIN','TAVG','TMAX']].plot(kind='box')\n",
    "\n",
    "# display the plot\n",
    "plt.show()"
   ]
  },
  {
   "cell_type": "code",
   "execution_count": 55,
   "id": "65b2357d-33e6-4577-84d5-d668886f6c11",
   "metadata": {},
   "outputs": [
    {
     "name": "stdout",
     "output_type": "stream",
     "text": [
      "count    4017.000000\n",
      "mean       17.784167\n",
      "std         6.350720\n",
      "min         2.000000\n",
      "25%        14.000000\n",
      "50%        18.000000\n",
      "75%        22.000000\n",
      "max        43.000000\n",
      "Name: TDIFF, dtype: float64\n"
     ]
    }
   ],
   "source": [
    "# create a 'TDIFF' col that represents temperature difference\n",
    "weather['TDIFF'] = weather['TMAX'] - weather['TMIN']\n",
    "\n",
    "# describe the 'TDIFF' column\n",
    "print(weather['TDIFF'].describe())"
   ]
  },
  {
   "cell_type": "code",
   "execution_count": 56,
   "id": "bd1d1bba-30b6-45b3-b591-d9dfb3729e71",
   "metadata": {},
   "outputs": [
    {
     "data": {
      "image/png": "[encoded data removed]",
      "text/plain": [
       "<Figure size 432x288 with 1 Axes>"
      ]
     },
     "metadata": {
      "needs_background": "light"
     },
     "output_type": "display_data"
    }
   ],
   "source": [
    "# create a histogram with 20 bins that visualizes 'TDIFF'\n",
    "weather['TDIFF'].plot(kind='hist', bins=20)\n",
    "\n",
    "# display the plot\n",
    "plt.show()"
   ]
  },
  {
   "cell_type": "markdown",
   "id": "78832323-c157-41d1-b598-c91830d6b3b2",
   "metadata": {},
   "source": [
    "#### O: 'TDIFF' has no negative values and the distribution is approximately normal."
   ]
  },
  {
   "cell_type": "code",
   "execution_count": 58,
   "id": "bf6b46bb-201b-4f94-9b9a-b3261d52e36f",
   "metadata": {},
   "outputs": [
    {
     "data": {
      "image/png": "[encoded data removed]",
      "text/plain": [
       "<Figure size 432x288 with 1 Axes>"
      ]
     },
     "metadata": {
      "needs_background": "light"
     },
     "output_type": "display_data"
    }
   ],
   "source": [
    "# copy 'WT01' through 'WT22' into a new df\n",
    "WT = weather.loc[:, 'WT01':'WT22']\n",
    "\n",
    "# calc the sum of each row in WT\n",
    "weather['bad_conditions'] = WT.sum(axis='columns')\n",
    "\n",
    "# replace na values in 'bad_conditions' with 0\n",
    "weather['bad_conditions'] = weather['bad_conditions'].fillna(0).astype('int')\n",
    "\n",
    "# create a histograph that visualized 'bad_conditions'\n",
    "weather['bad_conditions'].plot(kind='hist')\n",
    "\n",
    "# add labels\n",
    "plt.xlabel('# of bad conditions')\n",
    "# plt.ylabel('Violations')\n",
    "plt.title('Frequency of bad conditions per day')\n",
    "\n",
    "# display the plot\n",
    "plt.show()"
   ]
  },
  {
   "cell_type": "markdown",
   "id": "2fa0f776-92b2-4ded-8a5f-933861e45a92",
   "metadata": {},
   "source": [
    "#### O: Many days had no bad conditions, and onyl a small proportion had more than four bad conditions."
   ]
  },
  {
   "cell_type": "code",
   "execution_count": 59,
   "id": "5cfe6f93-ce1a-4bd4-9ca5-c9305c8d959c",
   "metadata": {},
   "outputs": [
    {
     "name": "stdout",
     "output_type": "stream",
     "text": [
      "0    1749\n",
      "1     613\n",
      "2     367\n",
      "3     380\n",
      "4     476\n",
      "5     282\n",
      "6     101\n",
      "7      41\n",
      "8       4\n",
      "9       4\n",
      "Name: bad_conditions, dtype: int64\n"
     ]
    }
   ],
   "source": [
    "# count the unique values in 'bad_conditions' and sort the index\n",
    "print(weather.bad_conditions.value_counts().sort_index())"
   ]
  },
  {
   "cell_type": "code",
   "execution_count": 60,
   "id": "8807039a-3f3e-4804-9edc-bcf71fce78da",
   "metadata": {},
   "outputs": [
    {
     "name": "stdout",
     "output_type": "stream",
     "text": [
      "bad      1836\n",
      "good     1749\n",
      "worse     432\n",
      "Name: rating, dtype: int64\n"
     ]
    }
   ],
   "source": [
    "# create a dict that maps ints to strs\n",
    "mapping = {0:'good', 1:'bad', 2:'bad', 3:'bad', 4:'bad', 5:'worse', 6:'worse', 7:'worse', 8:'worse', 9:'worse'}\n",
    "\n",
    "# convert the 'bad_conditions' ints to strings using the 'mapping'\n",
    "weather['rating'] = weather.bad_conditions.map(mapping)\n",
    "\n",
    "# count the unique values in 'rating'\n",
    "print(weather['rating'].value_counts())"
   ]
  },
  {
   "cell_type": "code",
   "execution_count": 61,
   "id": "75773fb9-96cb-4100-b60c-cd434ceb0d9c",
   "metadata": {},
   "outputs": [
    {
     "name": "stdout",
     "output_type": "stream",
     "text": [
      "0    bad\n",
      "1    bad\n",
      "2    bad\n",
      "3    bad\n",
      "4    bad\n",
      "Name: rating, dtype: category\n",
      "Categories (3, object): ['good' < 'bad' < 'worse']\n"
     ]
    }
   ],
   "source": [
    "# specify the logical order of the weather ratings\n",
    "cats = pd.CategoricalDtype(['good','bad','worse'], ordered=True)\n",
    "\n",
    "# change the dtype of 'rating' to category\n",
    "weather['rating'] = weather['rating'].astype(cats)\n",
    "\n",
    "# examine the first five rows of 'rating'\n",
    "print(weather['rating'].head())"
   ]
  },
  {
   "cell_type": "code",
   "execution_count": 62,
   "id": "dddf8e34-883f-4c93-8a3a-0a5a7c281477",
   "metadata": {},
   "outputs": [
    {
     "name": "stdout",
     "output_type": "stream",
     "text": [
      "        stop_datetime   stop_date stop_time driver_gender driver_race  \\\n",
      "0 2005-01-04 12:55:00  2005-01-04     12:55             M       White   \n",
      "1 2005-01-23 23:15:00  2005-01-23     23:15             M       White   \n",
      "2 2005-02-17 04:15:00  2005-02-17     04:15             M       White   \n",
      "3 2005-02-20 17:15:00  2005-02-20     17:15             M       White   \n",
      "4 2005-02-24 01:20:00  2005-02-24     01:20             F       White   \n",
      "\n",
      "                    violation_raw  violation  search_conducted search_type  \\\n",
      "0  Equipment/Inspection Violation  Equipment             False         NaN   \n",
      "1                        Speeding   Speeding             False         NaN   \n",
      "2                        Speeding   Speeding             False         NaN   \n",
      "3                Call for Service      Other             False         NaN   \n",
      "4                        Speeding   Speeding             False         NaN   \n",
      "\n",
      "    stop_outcome  is_arrested stop_duration  drugs_related_stop district  \\\n",
      "0       Citation        False      0-15 Min               False  Zone X4   \n",
      "1       Citation        False      0-15 Min               False  Zone K3   \n",
      "2       Citation        False      0-15 Min               False  Zone X4   \n",
      "3  Arrest Driver         True     16-30 Min               False  Zone X1   \n",
      "4       Citation        False      0-15 Min               False  Zone X3   \n",
      "\n",
      "   frisk  stop_minutes  \n",
      "0  False             8  \n",
      "1  False             8  \n",
      "2  False             8  \n",
      "3  False            23  \n",
      "4  False             8  \n"
     ]
    }
   ],
   "source": [
    "# reset the index of ri\n",
    "ri.reset_index(drop=False, inplace=True)\n",
    "\n",
    "# examine the head of ri\n",
    "print(ri.head())"
   ]
  },
  {
   "cell_type": "code",
   "execution_count": 63,
   "id": "b7a1dd21-aba9-4ea0-af0f-a0ba4d733d58",
   "metadata": {},
   "outputs": [
    {
     "name": "stdout",
     "output_type": "stream",
     "text": [
      "         DATE rating\n",
      "0  2005-01-01    bad\n",
      "1  2005-01-02    bad\n",
      "2  2005-01-03    bad\n",
      "3  2005-01-04    bad\n",
      "4  2005-01-05    bad\n"
     ]
    }
   ],
   "source": [
    "# create a df from the 'DATE' and 'rating' cols\n",
    "weather_rating = pd.DataFrame(weather[['DATE','rating']])\n",
    "\n",
    "# examine the head of weather_rating\n",
    "print(weather_rating.head())"
   ]
  },
  {
   "cell_type": "code",
   "execution_count": 64,
   "id": "479f5091-fa89-438f-9a76-ce809a61cd9a",
   "metadata": {},
   "outputs": [
    {
     "name": "stdout",
     "output_type": "stream",
     "text": [
      "(86536, 16)\n"
     ]
    }
   ],
   "source": [
    "# examine the shape of ri\n",
    "print(ri.shape)"
   ]
  },
  {
   "cell_type": "code",
   "execution_count": 65,
   "id": "acedd3de-f341-49df-afc8-1ecf5edc406b",
   "metadata": {},
   "outputs": [
    {
     "name": "stdout",
     "output_type": "stream",
     "text": [
      "(86536, 18)\n"
     ]
    }
   ],
   "source": [
    "# merge ri and weather_rating on a left join\n",
    "ri_weather = pd.merge(left=ri, right=weather_rating, left_on='stop_date', right_on='DATE', how='left')\n",
    "\n",
    "# examine the shape of ri_weather\n",
    "print(ri_weather.shape)"
   ]
  },
  {
   "cell_type": "code",
   "execution_count": 66,
   "id": "2959826f-5696-4d45-a217-23be5e386dbb",
   "metadata": {},
   "outputs": [
    {
     "name": "stdout",
     "output_type": "stream",
     "text": [
      "                      stop_date stop_time driver_gender driver_race  \\\n",
      "stop_datetime                                                         \n",
      "2005-01-04 12:55:00  2005-01-04     12:55             M       White   \n",
      "2005-01-23 23:15:00  2005-01-23     23:15             M       White   \n",
      "2005-02-17 04:15:00  2005-02-17     04:15             M       White   \n",
      "2005-02-20 17:15:00  2005-02-20     17:15             M       White   \n",
      "2005-02-24 01:20:00  2005-02-24     01:20             F       White   \n",
      "\n",
      "                                      violation_raw  violation  \\\n",
      "stop_datetime                                                    \n",
      "2005-01-04 12:55:00  Equipment/Inspection Violation  Equipment   \n",
      "2005-01-23 23:15:00                        Speeding   Speeding   \n",
      "2005-02-17 04:15:00                        Speeding   Speeding   \n",
      "2005-02-20 17:15:00                Call for Service      Other   \n",
      "2005-02-24 01:20:00                        Speeding   Speeding   \n",
      "\n",
      "                     search_conducted search_type   stop_outcome  is_arrested  \\\n",
      "stop_datetime                                                                   \n",
      "2005-01-04 12:55:00             False         NaN       Citation        False   \n",
      "2005-01-23 23:15:00             False         NaN       Citation        False   \n",
      "2005-02-17 04:15:00             False         NaN       Citation        False   \n",
      "2005-02-20 17:15:00             False         NaN  Arrest Driver         True   \n",
      "2005-02-24 01:20:00             False         NaN       Citation        False   \n",
      "\n",
      "                    stop_duration  drugs_related_stop district  frisk  \\\n",
      "stop_datetime                                                           \n",
      "2005-01-04 12:55:00      0-15 Min               False  Zone X4  False   \n",
      "2005-01-23 23:15:00      0-15 Min               False  Zone K3  False   \n",
      "2005-02-17 04:15:00      0-15 Min               False  Zone X4  False   \n",
      "2005-02-20 17:15:00     16-30 Min               False  Zone X1  False   \n",
      "2005-02-24 01:20:00      0-15 Min               False  Zone X3  False   \n",
      "\n",
      "                     stop_minutes        DATE rating  \n",
      "stop_datetime                                         \n",
      "2005-01-04 12:55:00             8  2005-01-04    bad  \n",
      "2005-01-23 23:15:00             8  2005-01-23  worse  \n",
      "2005-02-17 04:15:00             8  2005-02-17   good  \n",
      "2005-02-20 17:15:00            23  2005-02-20    bad  \n",
      "2005-02-24 01:20:00             8  2005-02-24    bad  \n"
     ]
    }
   ],
   "source": [
    "# set 'stop_datetime' as the index of ri_weather\n",
    "ri_weather.set_index('stop_datetime', inplace=True)\n",
    "\n",
    "print(ri_weather.head())"
   ]
  },
  {
   "cell_type": "markdown",
   "id": "96283e9f-86f2-4728-b607-6af9301cc6db",
   "metadata": {},
   "source": [
    "### Analysis"
   ]
  },
  {
   "cell_type": "code",
   "execution_count": 67,
   "id": "1e26e0da-9da0-4b8b-90b6-9040516a1ba4",
   "metadata": {},
   "outputs": [
    {
     "name": "stdout",
     "output_type": "stream",
     "text": [
      "0.0355690117407784\n"
     ]
    }
   ],
   "source": [
    "# calc the overall arrest rate\n",
    "print(ri_weather['is_arrested'].mean())"
   ]
  },
  {
   "cell_type": "code",
   "execution_count": 68,
   "id": "366be01a-7b2c-40d8-9fd5-0ad7fb948643",
   "metadata": {},
   "outputs": [
    {
     "name": "stdout",
     "output_type": "stream",
     "text": [
      "rating\n",
      "good     0.033715\n",
      "bad      0.036261\n",
      "worse    0.041667\n",
      "Name: is_arrested, dtype: float64\n"
     ]
    }
   ],
   "source": [
    "# calc the arrest rate for each 'rating'\n",
    "print(ri_weather.groupby('rating')['is_arrested'].mean())"
   ]
  },
  {
   "cell_type": "code",
   "execution_count": 69,
   "id": "75ccc95b-997d-43f0-a3e9-6b4c7425ded5",
   "metadata": {},
   "outputs": [
    {
     "name": "stdout",
     "output_type": "stream",
     "text": [
      "violation            rating\n",
      "Equipment            good      0.059007\n",
      "                     bad       0.066311\n",
      "                     worse     0.097357\n",
      "Moving violation     good      0.056227\n",
      "                     bad       0.058050\n",
      "                     worse     0.065860\n",
      "Other                good      0.076966\n",
      "                     bad       0.087443\n",
      "                     worse     0.062893\n",
      "Registration/plates  good      0.081574\n",
      "                     bad       0.098160\n",
      "                     worse     0.115625\n",
      "Seat belt            good      0.028587\n",
      "                     bad       0.022493\n",
      "                     worse     0.000000\n",
      "Speeding             good      0.013405\n",
      "                     bad       0.013314\n",
      "                     worse     0.016886\n",
      "Name: is_arrested, dtype: float64\n"
     ]
    }
   ],
   "source": [
    "# calc the arrest rate for each 'violation' and 'rating'\n",
    "print(ri_weather.groupby(['violation','rating'])['is_arrested'].mean())"
   ]
  },
  {
   "cell_type": "markdown",
   "id": "87e19bc1-6946-4158-9dcc-27ce978ef929",
   "metadata": {},
   "source": [
    "#### O: Interesting! The arrest rate increases as weather gets worse, which can be seen across many violation types."
   ]
  },
  {
   "cell_type": "code",
   "execution_count": 70,
   "id": "4d56d5fd-2d62-426e-8fd3-52915679881e",
   "metadata": {},
   "outputs": [
    {
     "name": "stdout",
     "output_type": "stream",
     "text": [
      "violation            rating\n",
      "Equipment            good      0.059007\n",
      "                     bad       0.066311\n",
      "                     worse     0.097357\n",
      "Moving violation     good      0.056227\n",
      "                     bad       0.058050\n",
      "                     worse     0.065860\n",
      "Other                good      0.076966\n",
      "                     bad       0.087443\n",
      "                     worse     0.062893\n",
      "Registration/plates  good      0.081574\n",
      "                     bad       0.098160\n",
      "                     worse     0.115625\n",
      "Seat belt            good      0.028587\n",
      "                     bad       0.022493\n",
      "                     worse     0.000000\n",
      "Speeding             good      0.013405\n",
      "                     bad       0.013314\n",
      "                     worse     0.016886\n",
      "Name: is_arrested, dtype: float64\n"
     ]
    }
   ],
   "source": [
    "# save the arrest rate for each violation and rating into its own object\n",
    "arrest_rate = ri_weather.groupby(['violation','rating'])['is_arrested'].mean()\n",
    "\n",
    "# print the arrest_rate series\n",
    "print(arrest_rate)"
   ]
  },
  {
   "cell_type": "code",
   "execution_count": 71,
   "id": "c0006940-f8b8-40c0-80b7-17af4e79d60f",
   "metadata": {},
   "outputs": [
    {
     "name": "stdout",
     "output_type": "stream",
     "text": [
      "0.05804964058049641\n"
     ]
    }
   ],
   "source": [
    "# print the arrest rate for moving violations in bad weather\n",
    "print(arrest_rate.loc['Moving violation', 'bad'])"
   ]
  },
  {
   "cell_type": "code",
   "execution_count": 72,
   "id": "cefa01ab-1993-4af3-9a54-5e79bfaf68bf",
   "metadata": {},
   "outputs": [
    {
     "name": "stdout",
     "output_type": "stream",
     "text": [
      "rating\n",
      "good     0.013405\n",
      "bad      0.013314\n",
      "worse    0.016886\n",
      "Name: is_arrested, dtype: float64\n"
     ]
    }
   ],
   "source": [
    "# print the arrest rates for speeding violations in all weather conditions\n",
    "print(arrest_rate.loc['Speeding', :])"
   ]
  },
  {
   "cell_type": "code",
   "execution_count": 73,
   "id": "f89ff267-5b5c-4161-be61-11290e6e2047",
   "metadata": {},
   "outputs": [
    {
     "name": "stdout",
     "output_type": "stream",
     "text": [
      "rating                   good       bad     worse\n",
      "violation                                        \n",
      "Equipment            0.059007  0.066311  0.097357\n",
      "Moving violation     0.056227  0.058050  0.065860\n",
      "Other                0.076966  0.087443  0.062893\n",
      "Registration/plates  0.081574  0.098160  0.115625\n",
      "Seat belt            0.028587  0.022493  0.000000\n",
      "Speeding             0.013405  0.013314  0.016886\n"
     ]
    }
   ],
   "source": [
    "# unstack the arrest_rate series into a df\n",
    "print(arrest_rate.unstack())"
   ]
  },
  {
   "cell_type": "code",
   "execution_count": 74,
   "id": "c8b53cc7-786b-4174-9fab-2bf12b61448e",
   "metadata": {},
   "outputs": [
    {
     "name": "stdout",
     "output_type": "stream",
     "text": [
      "rating                   good       bad     worse\n",
      "violation                                        \n",
      "Equipment            0.059007  0.066311  0.097357\n",
      "Moving violation     0.056227  0.058050  0.065860\n",
      "Other                0.076966  0.087443  0.062893\n",
      "Registration/plates  0.081574  0.098160  0.115625\n",
      "Seat belt            0.028587  0.022493  0.000000\n",
      "Speeding             0.013405  0.013314  0.016886\n"
     ]
    }
   ],
   "source": [
    "# create the same df using a pivot table\n",
    "print(ri_weather.pivot_table(index='violation', columns='rating', values='is_arrested'))"
   ]
  },
  {
   "cell_type": "markdown",
   "id": "434e7e68-78ff-4155-9952-5cf61ee3bdca",
   "metadata": {},
   "source": [
    "#### O: Seat belt violations are ZERO in 'worse' weather conditions!"
   ]
  }
 ],
 "metadata": {
  "kernelspec": {
   "display_name": "Python 3 (ipykernel)",
   "language": "python",
   "name": "python3"
  },
  "language_info": {
   "codemirror_mode": {
    "name": "ipython",
    "version": 3
   },
   "file_extension": ".py",
   "mimetype": "text/x-python",
   "name": "python",
   "nbconvert_exporter": "python",
   "pygments_lexer": "ipython3",
   "version": "3.9.12"
  }
 },
 "nbformat": 4,
 "nbformat_minor": 5
}
